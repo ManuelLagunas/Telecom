{
 "cells": [
  {
   "cell_type": "code",
   "execution_count": null,
   "metadata": {},
   "outputs": [],
   "source": [
    "# Libraries ----------------------------------------\n",
    "\n",
    "import pandas as pd\n",
    "import os\n",
    "import sys"
   ]
  },
  {
   "cell_type": "code",
   "execution_count": null,
   "metadata": {},
   "outputs": [],
   "source": [
    "\n",
    "# Loading data ----------------------------------------\n",
    "\n",
    "contract_raw = pd.read_csv(\"datasets/final_provider/contract.csv\")\n",
    "internet_raw = pd.read_csv(\"datasets/final_provider/internet.csv\")\n",
    "personal_raw = pd.read_csv(\"datasets/final_provider/personal.csv\")\n",
    "phone_raw = pd.read_csv(\"datasets/final_provider/phone.csv\")"
   ]
  },
  {
   "cell_type": "code",
   "execution_count": null,
   "metadata": {},
   "outputs": [],
   "source": [
    "# Data exploration ----------------------------------------\n",
    "\n",
    "#  --------- contract_raw ---------\n",
    "# General information\n",
    "print(contract_raw.shape)\n",
    "print(contract_raw.info())\n",
    "print(contract_raw.describe())\n",
    "# Null values\n",
    "print(contract_raw.isnull().sum())\n",
    "print((contract_raw.isnull().sum() / len(contract_raw)) * 100)\n",
    "# duplicate values\n",
    "print(contract_raw.duplicated().sum())"
   ]
  },
  {
   "cell_type": "code",
   "execution_count": null,
   "metadata": {},
   "outputs": [],
   "source": [
    "#  --------- internet_raw ---------\n",
    "# General information\n",
    "print(internet_raw.shape)\n",
    "print(internet_raw.info())\n",
    "print(internet_raw.describe())\n",
    "# Null values\n",
    "print(internet_raw.isnull().sum())\n",
    "print((internet_raw.isnull().sum() / len(internet_raw)) * 100)\n",
    "# duplicate values\n",
    "print(internet_raw.duplicated().sum())"
   ]
  },
  {
   "cell_type": "code",
   "execution_count": null,
   "metadata": {},
   "outputs": [],
   "source": [
    "#  --------- personal_raw ---------\n",
    "# General information\n",
    "print(personal_raw.shape)\n",
    "print(personal_raw.info())\n",
    "print(personal_raw.describe())\n",
    "# Null values\n",
    "personal_raw.isnull().sum())\n",
    "print((personal_raw.isnull().sum() / len(personal_raw)) * 100)\n",
    "# duplicate values\n",
    "print(personal_raw.duplicated().sum())"
   ]
  },
  {
   "cell_type": "code",
   "execution_count": null,
   "metadata": {},
   "outputs": [],
   "source": [
    "#  --------- phone_raw ---------\n",
    "# General information\n",
    "print(phone_raw.shape)\n",
    "print(phone_raw.info())\n",
    "print(phone_raw.describe())\n",
    "# Null values\n",
    "print(phone_raw.isnull().sum())\n",
    "print((phone_raw.isnull().sum() / len(phone_raw)) * 100)\n",
    "# duplicate values\n",
    "print(phone_raw.duplicated().sum())\n",
    "print((phone_raw.duplicated().sum() / len(phone_raw)) * 100)\n",
    "# duplicate values\n",
    "print(phone_raw.duplicated().sum())"
   ]
  },
  {
   "cell_type": "markdown",
   "metadata": {},
   "source": [
    "## Plan de trabajo\n",
    "\n",
    "- 1. Hacer análisis exploratorio de datos\n",
    "- 2. Solucionar los problemas encontrados en el análisis exploratorio\n",
    "- 3. Decidir cuales seran las caracteristicas y cual será el objetivo\n",
    "- 4. Verificar posible desbalanceo de los datos\n",
    "- 5. Crear un conjunto de entrenamiento y otro de prueba\n",
    "- 6. Entrenar multiples modelos para seleccionar el mejor, utilizando multiples tecnicas que permitan solucionar el problema del desbalanceo (Si es que existiera)\n",
    "- 7. Entrenar el modelo final\n",
    "- 7. Probarlo con el conjunto de datos de prueba\n",
    "- 8. Presentar los resultados y conclusiones"
   ]
  }
 ],
 "metadata": {
  "language_info": {
   "name": "python"
  }
 },
 "nbformat": 4,
 "nbformat_minor": 2
}
